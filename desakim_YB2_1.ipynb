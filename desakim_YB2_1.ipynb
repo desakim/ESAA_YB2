{
 "cells": [
  {
   "cell_type": "markdown",
   "metadata": {
    "id": "fd1zwnm-j7B1"
   },
   "source": [
    "# **자료형**"
   ]
  },
  {
   "cell_type": "markdown",
   "metadata": {
    "id": "jUpWjtvlj9JV"
   },
   "source": [
    "##Q1. 다음 수의 평균을 구하세요.\n",
    "\n",
    "80, 75, 55, 95"
   ]
  },
  {
   "cell_type": "code",
   "execution_count": 18,
   "metadata": {
    "id": "YcP79wQgj3bh"
   },
   "outputs": [
    {
     "data": {
      "text/plain": [
       "76.25"
      ]
     },
     "execution_count": 18,
     "metadata": {},
     "output_type": "execute_result"
    }
   ],
   "source": [
    "(80+75+55+95)/4"
   ]
  },
  {
   "cell_type": "markdown",
   "metadata": {
    "id": "pHK3T87Zkcte"
   },
   "source": [
    "##Q2. 주민등록번호를 연월일(YYYYMMDD) 부분과 그 뒤의 숫자 부분으로 나누어 출력하세요.\n",
    "홍길동 씨의 주민등록번호는 881120-1068234이다."
   ]
  },
  {
   "cell_type": "code",
   "execution_count": 19,
   "metadata": {
    "id": "yZEM63Xok9xi"
   },
   "outputs": [
    {
     "name": "stdout",
     "output_type": "stream",
     "text": [
      "881120 1068234\n"
     ]
    }
   ],
   "source": [
    "# 답을 작성해주세요\n",
    "id_Hong = \"881120-1068234\"\n",
    "print(id_Hong[:6],id_Hong[-7:])"
   ]
  },
  {
   "cell_type": "markdown",
   "metadata": {
    "id": "WojXUmuslVIS"
   },
   "source": [
    "##Q4. 주민등록번호에서 성별을 나타내는 숫자를 출력하세요.\n",
    "주민등록번호 뒷자리의 첫 번째 숫자는 성별을 나타낸다. "
   ]
  },
  {
   "cell_type": "code",
   "execution_count": 20,
   "metadata": {
    "id": "ZAhDqYOglqZ-"
   },
   "outputs": [
    {
     "name": "stdout",
     "output_type": "stream",
     "text": [
      "2\n"
     ]
    }
   ],
   "source": [
    "# 답을 작성해주세요\n",
    "id_pin = \"881120-2153468\"\n",
    "print(id_pin[7])"
   ]
  },
  {
   "cell_type": "markdown",
   "metadata": {
    "id": "lbWsPuOEl-y5"
   },
   "source": [
    "##Q5. [1, 3, 5, 4, 2] 리스트를 [5, 4, 3, 2, 1]로 정렬하세요"
   ]
  },
  {
   "cell_type": "code",
   "execution_count": 21,
   "metadata": {
    "id": "dI2gioTKmnVC"
   },
   "outputs": [
    {
     "data": {
      "text/plain": [
       "[5, 4, 3, 2, 1]"
      ]
     },
     "execution_count": 21,
     "metadata": {},
     "output_type": "execute_result"
    }
   ],
   "source": [
    "# 답을 작성해주세요\n",
    "rand_list = [1, 3, 5, 4, 2]\n",
    "rand_list.sort(reverse = True)\n",
    "rand_list"
   ]
  },
  {
   "cell_type": "markdown",
   "metadata": {
    "id": "us3I2cpem2bz"
   },
   "source": [
    "##Q7. 다음 리스트를 Life is too short 문자열로 만들어 출력하세요"
   ]
  },
  {
   "cell_type": "code",
   "execution_count": 22,
   "metadata": {
    "id": "G38tHstZnF5s"
   },
   "outputs": [
    {
     "data": {
      "text/plain": [
       "'Life is too short'"
      ]
     },
     "execution_count": 22,
     "metadata": {},
     "output_type": "execute_result"
    }
   ],
   "source": [
    "# 답을 작성해주세요\n",
    "string_list = ['Life', 'is', 'too', 'short'] \n",
    "\n",
    "\" \".join(string_list)"
   ]
  },
  {
   "cell_type": "markdown",
   "metadata": {
    "id": "e4Bbr6rmdnph"
   },
   "source": [
    "# **제어문**"
   ]
  },
  {
   "cell_type": "markdown",
   "metadata": {
    "id": "sfAPtg9kd1kA"
   },
   "source": [
    "## Q1. 다음 코드의 결과는?\n",
    "```python\n",
    "a = \"Life is too short, you need python\"\n",
    "\n",
    "if \"wife\" in a: print(\"wife\")\n",
    "elif \"python\" in a and \"you\" not in a: print(\"python\")\n",
    "elif \"shirt\" not in a: print(\"shirt\")\n",
    "elif \"need\" in a: print(\"need\")\n",
    "else: print(\"none\")\n",
    "```"
   ]
  },
  {
   "cell_type": "code",
   "execution_count": 16,
   "metadata": {
    "id": "coCD7rBhdgA4",
    "scrolled": true
   },
   "outputs": [],
   "source": [
    "# 답을 작성해주세요\n",
    "# shirt"
   ]
  },
  {
   "cell_type": "markdown",
   "metadata": {
    "id": "E_lrf3dxeTM9"
   },
   "source": [
    "##Q2. while문을 사용해 1부터 1000까지의 자연수 중 3의 배수의 합을 구하세요"
   ]
  },
  {
   "cell_type": "code",
   "execution_count": 29,
   "metadata": {
    "id": "FnUBJZTCedgs"
   },
   "outputs": [
    {
     "name": "stdout",
     "output_type": "stream",
     "text": [
      "166833\n"
     ]
    }
   ],
   "source": [
    "# 답을 작성해주세요 ?? \n",
    "\n",
    "num = 0\n",
    "sum = 0\n",
    "while (num <= 1000):\n",
    "    num += 1\n",
    "    while (num % 3 == 0):\n",
    "        sum += num\n",
    "        num += 1\n",
    "        continue\n",
    "print(sum)"
   ]
  },
  {
   "cell_type": "markdown",
   "metadata": {
    "id": "h4XcuXk7ei0B"
   },
   "source": [
    "## Q3. while문을 사용하여 다음과 같이 별(*)을 표시하는 프로그램을 작성하세요"
   ]
  },
  {
   "cell_type": "markdown",
   "metadata": {
    "id": "9vyyoqacDqys"
   },
   "source": [
    "![image.png](data:image/png;base64,iVBORw0KGgoAAAANSUhEUgAAAEMAAABbCAYAAAAoTziFAAABTklEQVR4nO3YsQ3DIBgFYZxNzP4zeRVcIV3hwkQYftB9bRrnRFD8jlJKSUoppfSb/QCRGAOMAcYAY0BzjJzzF88RgicDjrf/M55OxHVd3R9optcxqpzzdhGqpp9JDbHrvdF8MnbmBQrGAGOAMcAYYAwwBhgDjAHGAGNA13Fn9Rc4TwZ0GXd2GX66jjurDz/dxp0dhh/HHfACBWOAMcAYYAwwBhgDjAHGAGOAMWDYuLPCC5wnAz4fd5Yafkqj8zy7fxZFU4z6hZ6+2L+fReK4A16gYAwwBhgDjAHGAGOAMcAYYAwwBhgDQixdUVYwTwZMXbrCrWCtA8gXS1eU0Wf60hVpBXPpAi9QMAYYA4wBxgBjgDHAGGAMMAYYA8KPOyOHH08GhB13pgw/re/8o8edkTtH6HFn9PDjuANeoGAMMAYYA4wBxgBjgDHAGGAMuAEai18A1dsRSAAAAABJRU5ErkJggg==)"
   ]
  },
  {
   "cell_type": "code",
   "execution_count": 3,
   "metadata": {
    "id": "3Zu5X5vnfM1k"
   },
   "outputs": [
    {
     "name": "stdout",
     "output_type": "stream",
     "text": [
      "*\n",
      "**\n",
      "***\n",
      "****\n",
      "*****\n"
     ]
    }
   ],
   "source": [
    "# 답을 작성해주세요\n",
    "a = 0\n",
    "while a < 5:\n",
    "  a = a+1\n",
    "  print('*'*a)"
   ]
  },
  {
   "cell_type": "markdown",
   "metadata": {
    "id": "uNTYJ3iQfO6c"
   },
   "source": [
    "## Q4. for문을 사용해 1부터 100까지의 숫자를 출력하세요"
   ]
  },
  {
   "cell_type": "code",
   "execution_count": 46,
   "metadata": {
    "id": "haJmxZDAfWJ4"
   },
   "outputs": [
    {
     "name": "stdout",
     "output_type": "stream",
     "text": [
      "1\n",
      "2\n",
      "3\n",
      "4\n",
      "5\n",
      "6\n",
      "7\n",
      "8\n",
      "9\n",
      "10\n",
      "11\n",
      "12\n",
      "13\n",
      "14\n",
      "15\n",
      "16\n",
      "17\n",
      "18\n",
      "19\n",
      "20\n",
      "21\n",
      "22\n",
      "23\n",
      "24\n",
      "25\n",
      "26\n",
      "27\n",
      "28\n",
      "29\n",
      "30\n",
      "31\n",
      "32\n",
      "33\n",
      "34\n",
      "35\n",
      "36\n",
      "37\n",
      "38\n",
      "39\n",
      "40\n",
      "41\n",
      "42\n",
      "43\n",
      "44\n",
      "45\n",
      "46\n",
      "47\n",
      "48\n",
      "49\n",
      "50\n",
      "51\n",
      "52\n",
      "53\n",
      "54\n",
      "55\n",
      "56\n",
      "57\n",
      "58\n",
      "59\n",
      "60\n",
      "61\n",
      "62\n",
      "63\n",
      "64\n",
      "65\n",
      "66\n",
      "67\n",
      "68\n",
      "69\n",
      "70\n",
      "71\n",
      "72\n",
      "73\n",
      "74\n",
      "75\n",
      "76\n",
      "77\n",
      "78\n",
      "79\n",
      "80\n",
      "81\n",
      "82\n",
      "83\n",
      "84\n",
      "85\n",
      "86\n",
      "87\n",
      "88\n",
      "89\n",
      "90\n",
      "91\n",
      "92\n",
      "93\n",
      "94\n",
      "95\n",
      "96\n",
      "97\n",
      "98\n",
      "99\n",
      "100\n"
     ]
    }
   ],
   "source": [
    "# 답을 작성해주세요\n",
    "for i in range(100):\n",
    "    print(i+1)"
   ]
  },
  {
   "cell_type": "markdown",
   "metadata": {
    "id": "_qOXRe6CfYQP"
   },
   "source": [
    "##Q5. for문을 사용하여 평균을 구하세요.\n",
    "\n",
    "A 학급에 총 10명의 학생이 있다. 이 학생들의 중간고사 점수는 다음과 같다.\n",
    "\n",
    "[70, 60, 55, 75, 95, 90, 80, 80, 85, 100]"
   ]
  },
  {
   "cell_type": "code",
   "execution_count": 2,
   "metadata": {
    "id": "aSsOy9dNfXpJ"
   },
   "outputs": [
    {
     "name": "stdout",
     "output_type": "stream",
     "text": [
      "79.0\n"
     ]
    }
   ],
   "source": [
    "# 답을 작성해주세요\n",
    "scores = [70, 60, 55, 75, 95, 90, 80, 80, 85, 100]\n",
    "sum = 0\n",
    "for num in scores:\n",
    "    sum += num\n",
    "print(sum/len(scores))"
   ]
  },
  {
   "cell_type": "markdown",
   "metadata": {
    "id": "65dpTuUffy73"
   },
   "source": [
    "##Q6. number list에서 홀수에만 2를 곱해 결과를 result에 저장한 후 출력하세요"
   ]
  },
  {
   "cell_type": "code",
   "execution_count": 44,
   "metadata": {
    "id": "vxEAtDQ2fyem"
   },
   "outputs": [
    {
     "data": {
      "text/plain": [
       "[2, 6, 10]"
      ]
     },
     "execution_count": 44,
     "metadata": {},
     "output_type": "execute_result"
    }
   ],
   "source": [
    "numbers = [1, 2, 3, 4, 5]\n",
    "result = [num*2 for num in numbers if (num%2 == 1)]\n",
    "result"
   ]
  },
  {
   "cell_type": "markdown",
   "metadata": {
    "id": "2cqJNh90gaLm"
   },
   "source": [
    "# **함수와 입출력**"
   ]
  },
  {
   "cell_type": "markdown",
   "metadata": {
    "id": "SqFHUlJjgn6v"
   },
   "source": [
    "##Q1. 주어진 자연수가 홀수인지 짝수인지 판별하는 함수를 작성하세요"
   ]
  },
  {
   "cell_type": "code",
   "execution_count": 40,
   "metadata": {
    "id": "rWJTjYVWgZ5Z"
   },
   "outputs": [],
   "source": [
    "# 답을 작성해주세요\n",
    "def is_odd(a):\n",
    "    if(a % 2 == 0):\n",
    "        print(\"짝수\")\n",
    "    else:\n",
    "        print(\"홀수\")"
   ]
  },
  {
   "cell_type": "markdown",
   "metadata": {
    "id": "8e3ezwkygx6a"
   },
   "source": [
    "##Q2. 입력으로 들어오는 모든 수의 평균을 계산해주는 함수를 작성하고 실행하세요\n",
    "(입력으로 들어오는 수의 개수는 랜덤입니다.)"
   ]
  },
  {
   "cell_type": "code",
   "execution_count": null,
   "metadata": {
    "id": "tEQJxYVBhDSz"
   },
   "outputs": [],
   "source": [
    "# 답을 작성해주세요\n",
    "def average_rand(n):\n",
    "  j = 0\n",
    "  for i in n:\n",
    "    j += i\n",
    "  return j/len(n)"
   ]
  },
  {
   "cell_type": "markdown",
   "metadata": {
    "id": "3xumzArZhC65"
   },
   "source": [
    "##Q3. 다음 프로그램의 오류를 수정하고 실행하세요"
   ]
  },
  {
   "cell_type": "code",
   "execution_count": 39,
   "metadata": {
    "colab": {
     "base_uri": "https://localhost:8080/"
    },
    "id": "RTPfNyQJhWfb",
    "outputId": "136252cc-74f9-4331-87fb-aa2ee8563271"
   },
   "outputs": [
    {
     "name": "stdout",
     "output_type": "stream",
     "text": [
      "첫번째 숫자를 입력하세요:1\n",
      "두번째 숫자를 입력하세요:2\n",
      "두 수의 합은 3 입니다\n"
     ]
    }
   ],
   "source": [
    "input1 = int(input(\"첫번째 숫자를 입력하세요:\"))\n",
    "input2 = int(input(\"두번째 숫자를 입력하세요:\"))\n",
    "\n",
    "total = input1 + input2\n",
    "print(\"두 수의 합은 %s 입니다\" % total)"
   ]
  },
  {
   "cell_type": "code",
   "execution_count": null,
   "metadata": {
    "id": "SiaUWWLGhgd9"
   },
   "outputs": [],
   "source": [
    "# 수정한 코드를 작성하고 실행하세요"
   ]
  },
  {
   "cell_type": "markdown",
   "metadata": {
    "id": "5jMWaYmLhf7S"
   },
   "source": [
    "##Q4. 다음 중 출력 결과가 다른 것 하나를 고르세요\n",
    "\n",
    "1. print(\"you\" \"need\" \"python\")\n",
    "2. print(\"you\"+\"need\"+\"python\")\n",
    "3. print(\"you\", \"need\", \"python\")\n",
    "4. print(\"\".join([\"you\", \"need\", \"python\"]))"
   ]
  },
  {
   "cell_type": "code",
   "execution_count": null,
   "metadata": {
    "id": "iYs2JHAnh92c"
   },
   "outputs": [],
   "source": [
    "# 답을 작성해주세요\n",
    "#3번"
   ]
  }
 ],
 "metadata": {
  "colab": {
   "collapsed_sections": [],
   "provenance": []
  },
  "kernelspec": {
   "display_name": "Python 3 (ipykernel)",
   "language": "python",
   "name": "python3"
  },
  "language_info": {
   "codemirror_mode": {
    "name": "ipython",
    "version": 3
   },
   "file_extension": ".py",
   "mimetype": "text/x-python",
   "name": "python",
   "nbconvert_exporter": "python",
   "pygments_lexer": "ipython3",
   "version": "3.9.13"
  }
 },
 "nbformat": 4,
 "nbformat_minor": 1
}
