{
  "nbformat": 4,
  "nbformat_minor": 0,
  "metadata": {
    "kernelspec": {
      "display_name": "Python 3",
      "language": "python",
      "name": "python3"
    },
    "language_info": {
      "codemirror_mode": {
        "name": "ipython",
        "version": 3
      },
      "file_extension": ".py",
      "mimetype": "text/x-python",
      "name": "python",
      "nbconvert_exporter": "python",
      "pygments_lexer": "ipython3",
      "version": "3.7.3"
    },
    "colab": {
      "provenance": [],
      "include_colab_link": true
    }
  },
  "cells": [
    {
      "cell_type": "markdown",
      "metadata": {
        "id": "view-in-github",
        "colab_type": "text"
      },
      "source": [
        "<a href=\"https://colab.research.google.com/github/desakim/ESAA_YB2/blob/main/desakim_YB2_7_1_chipotle_Exercises_ipynb.ipynb\" target=\"_parent\"><img src=\"https://colab.research.google.com/assets/colab-badge.svg\" alt=\"Open In Colab\"/></a>"
      ]
    },
    {
      "cell_type": "markdown",
      "metadata": {
        "id": "s-jRl936TdfM"
      },
      "source": [
        "# Visualizing Chipotle's Data"
      ]
    },
    {
      "cell_type": "markdown",
      "metadata": {
        "id": "kni-E3-iTdfZ"
      },
      "source": [
        "This time we are going to pull data directly from the internet.\n",
        "Special thanks to: https://github.com/justmarkham for sharing the dataset and materials.\n",
        "\n",
        "### Step 1. Import the necessary libraries"
      ]
    },
    {
      "cell_type": "code",
      "metadata": {
        "id": "E1aE50H1Tdfc"
      },
      "source": [
        "import pandas as pd\n",
        "import matplotlib.pyplot as plt\n",
        "from collections import Counter\n",
        "\n",
        "\n",
        "# set this so the graphs open internally\n",
        "%matplotlib inline"
      ],
      "execution_count": 35,
      "outputs": []
    },
    {
      "cell_type": "markdown",
      "metadata": {
        "id": "vIwCcQZnTdfg"
      },
      "source": [
        "### Step 2. Import the dataset from this [address](https://raw.githubusercontent.com/justmarkham/DAT8/master/data/chipotle.tsv). "
      ]
    },
    {
      "cell_type": "markdown",
      "metadata": {
        "id": "3OXJSoxtTdfh"
      },
      "source": [
        "### Step 3. Assign it to a variable called chipo."
      ]
    },
    {
      "cell_type": "code",
      "metadata": {
        "id": "MKz8CT_uTdfk"
      },
      "source": [
        "chipo = pd.read_csv(\"https://raw.githubusercontent.com/justmarkham/DAT8/master/data/chipotle.tsv\", sep=\"\\t\")"
      ],
      "execution_count": 36,
      "outputs": []
    },
    {
      "cell_type": "markdown",
      "metadata": {
        "id": "Hs29l4MrTdfm"
      },
      "source": [
        "### Step 4. See the first 10 entries"
      ]
    },
    {
      "cell_type": "code",
      "metadata": {
        "scrolled": false,
        "id": "ZsfoVxHpTdfp",
        "colab": {
          "base_uri": "https://localhost:8080/",
          "height": 359
        },
        "outputId": "02c751d1-0ee7-4262-8497-d148c676e909"
      },
      "source": [
        "chipo.head(10)"
      ],
      "execution_count": 37,
      "outputs": [
        {
          "output_type": "execute_result",
          "data": {
            "text/plain": [
              "   order_id  quantity                              item_name  \\\n",
              "0         1         1           Chips and Fresh Tomato Salsa   \n",
              "1         1         1                                   Izze   \n",
              "2         1         1                       Nantucket Nectar   \n",
              "3         1         1  Chips and Tomatillo-Green Chili Salsa   \n",
              "4         2         2                           Chicken Bowl   \n",
              "5         3         1                           Chicken Bowl   \n",
              "6         3         1                          Side of Chips   \n",
              "7         4         1                          Steak Burrito   \n",
              "8         4         1                       Steak Soft Tacos   \n",
              "9         5         1                          Steak Burrito   \n",
              "\n",
              "                                  choice_description item_price  \n",
              "0                                                NaN     $2.39   \n",
              "1                                       [Clementine]     $3.39   \n",
              "2                                            [Apple]     $3.39   \n",
              "3                                                NaN     $2.39   \n",
              "4  [Tomatillo-Red Chili Salsa (Hot), [Black Beans...    $16.98   \n",
              "5  [Fresh Tomato Salsa (Mild), [Rice, Cheese, Sou...    $10.98   \n",
              "6                                                NaN     $1.69   \n",
              "7  [Tomatillo Red Chili Salsa, [Fajita Vegetables...    $11.75   \n",
              "8  [Tomatillo Green Chili Salsa, [Pinto Beans, Ch...     $9.25   \n",
              "9  [Fresh Tomato Salsa, [Rice, Black Beans, Pinto...     $9.25   "
            ],
            "text/html": [
              "\n",
              "  <div id=\"df-032e58a7-8140-4797-a810-266b733a8e21\">\n",
              "    <div class=\"colab-df-container\">\n",
              "      <div>\n",
              "<style scoped>\n",
              "    .dataframe tbody tr th:only-of-type {\n",
              "        vertical-align: middle;\n",
              "    }\n",
              "\n",
              "    .dataframe tbody tr th {\n",
              "        vertical-align: top;\n",
              "    }\n",
              "\n",
              "    .dataframe thead th {\n",
              "        text-align: right;\n",
              "    }\n",
              "</style>\n",
              "<table border=\"1\" class=\"dataframe\">\n",
              "  <thead>\n",
              "    <tr style=\"text-align: right;\">\n",
              "      <th></th>\n",
              "      <th>order_id</th>\n",
              "      <th>quantity</th>\n",
              "      <th>item_name</th>\n",
              "      <th>choice_description</th>\n",
              "      <th>item_price</th>\n",
              "    </tr>\n",
              "  </thead>\n",
              "  <tbody>\n",
              "    <tr>\n",
              "      <th>0</th>\n",
              "      <td>1</td>\n",
              "      <td>1</td>\n",
              "      <td>Chips and Fresh Tomato Salsa</td>\n",
              "      <td>NaN</td>\n",
              "      <td>$2.39</td>\n",
              "    </tr>\n",
              "    <tr>\n",
              "      <th>1</th>\n",
              "      <td>1</td>\n",
              "      <td>1</td>\n",
              "      <td>Izze</td>\n",
              "      <td>[Clementine]</td>\n",
              "      <td>$3.39</td>\n",
              "    </tr>\n",
              "    <tr>\n",
              "      <th>2</th>\n",
              "      <td>1</td>\n",
              "      <td>1</td>\n",
              "      <td>Nantucket Nectar</td>\n",
              "      <td>[Apple]</td>\n",
              "      <td>$3.39</td>\n",
              "    </tr>\n",
              "    <tr>\n",
              "      <th>3</th>\n",
              "      <td>1</td>\n",
              "      <td>1</td>\n",
              "      <td>Chips and Tomatillo-Green Chili Salsa</td>\n",
              "      <td>NaN</td>\n",
              "      <td>$2.39</td>\n",
              "    </tr>\n",
              "    <tr>\n",
              "      <th>4</th>\n",
              "      <td>2</td>\n",
              "      <td>2</td>\n",
              "      <td>Chicken Bowl</td>\n",
              "      <td>[Tomatillo-Red Chili Salsa (Hot), [Black Beans...</td>\n",
              "      <td>$16.98</td>\n",
              "    </tr>\n",
              "    <tr>\n",
              "      <th>5</th>\n",
              "      <td>3</td>\n",
              "      <td>1</td>\n",
              "      <td>Chicken Bowl</td>\n",
              "      <td>[Fresh Tomato Salsa (Mild), [Rice, Cheese, Sou...</td>\n",
              "      <td>$10.98</td>\n",
              "    </tr>\n",
              "    <tr>\n",
              "      <th>6</th>\n",
              "      <td>3</td>\n",
              "      <td>1</td>\n",
              "      <td>Side of Chips</td>\n",
              "      <td>NaN</td>\n",
              "      <td>$1.69</td>\n",
              "    </tr>\n",
              "    <tr>\n",
              "      <th>7</th>\n",
              "      <td>4</td>\n",
              "      <td>1</td>\n",
              "      <td>Steak Burrito</td>\n",
              "      <td>[Tomatillo Red Chili Salsa, [Fajita Vegetables...</td>\n",
              "      <td>$11.75</td>\n",
              "    </tr>\n",
              "    <tr>\n",
              "      <th>8</th>\n",
              "      <td>4</td>\n",
              "      <td>1</td>\n",
              "      <td>Steak Soft Tacos</td>\n",
              "      <td>[Tomatillo Green Chili Salsa, [Pinto Beans, Ch...</td>\n",
              "      <td>$9.25</td>\n",
              "    </tr>\n",
              "    <tr>\n",
              "      <th>9</th>\n",
              "      <td>5</td>\n",
              "      <td>1</td>\n",
              "      <td>Steak Burrito</td>\n",
              "      <td>[Fresh Tomato Salsa, [Rice, Black Beans, Pinto...</td>\n",
              "      <td>$9.25</td>\n",
              "    </tr>\n",
              "  </tbody>\n",
              "</table>\n",
              "</div>\n",
              "      <button class=\"colab-df-convert\" onclick=\"convertToInteractive('df-032e58a7-8140-4797-a810-266b733a8e21')\"\n",
              "              title=\"Convert this dataframe to an interactive table.\"\n",
              "              style=\"display:none;\">\n",
              "        \n",
              "  <svg xmlns=\"http://www.w3.org/2000/svg\" height=\"24px\"viewBox=\"0 0 24 24\"\n",
              "       width=\"24px\">\n",
              "    <path d=\"M0 0h24v24H0V0z\" fill=\"none\"/>\n",
              "    <path d=\"M18.56 5.44l.94 2.06.94-2.06 2.06-.94-2.06-.94-.94-2.06-.94 2.06-2.06.94zm-11 1L8.5 8.5l.94-2.06 2.06-.94-2.06-.94L8.5 2.5l-.94 2.06-2.06.94zm10 10l.94 2.06.94-2.06 2.06-.94-2.06-.94-.94-2.06-.94 2.06-2.06.94z\"/><path d=\"M17.41 7.96l-1.37-1.37c-.4-.4-.92-.59-1.43-.59-.52 0-1.04.2-1.43.59L10.3 9.45l-7.72 7.72c-.78.78-.78 2.05 0 2.83L4 21.41c.39.39.9.59 1.41.59.51 0 1.02-.2 1.41-.59l7.78-7.78 2.81-2.81c.8-.78.8-2.07 0-2.86zM5.41 20L4 18.59l7.72-7.72 1.47 1.35L5.41 20z\"/>\n",
              "  </svg>\n",
              "      </button>\n",
              "      \n",
              "  <style>\n",
              "    .colab-df-container {\n",
              "      display:flex;\n",
              "      flex-wrap:wrap;\n",
              "      gap: 12px;\n",
              "    }\n",
              "\n",
              "    .colab-df-convert {\n",
              "      background-color: #E8F0FE;\n",
              "      border: none;\n",
              "      border-radius: 50%;\n",
              "      cursor: pointer;\n",
              "      display: none;\n",
              "      fill: #1967D2;\n",
              "      height: 32px;\n",
              "      padding: 0 0 0 0;\n",
              "      width: 32px;\n",
              "    }\n",
              "\n",
              "    .colab-df-convert:hover {\n",
              "      background-color: #E2EBFA;\n",
              "      box-shadow: 0px 1px 2px rgba(60, 64, 67, 0.3), 0px 1px 3px 1px rgba(60, 64, 67, 0.15);\n",
              "      fill: #174EA6;\n",
              "    }\n",
              "\n",
              "    [theme=dark] .colab-df-convert {\n",
              "      background-color: #3B4455;\n",
              "      fill: #D2E3FC;\n",
              "    }\n",
              "\n",
              "    [theme=dark] .colab-df-convert:hover {\n",
              "      background-color: #434B5C;\n",
              "      box-shadow: 0px 1px 3px 1px rgba(0, 0, 0, 0.15);\n",
              "      filter: drop-shadow(0px 1px 2px rgba(0, 0, 0, 0.3));\n",
              "      fill: #FFFFFF;\n",
              "    }\n",
              "  </style>\n",
              "\n",
              "      <script>\n",
              "        const buttonEl =\n",
              "          document.querySelector('#df-032e58a7-8140-4797-a810-266b733a8e21 button.colab-df-convert');\n",
              "        buttonEl.style.display =\n",
              "          google.colab.kernel.accessAllowed ? 'block' : 'none';\n",
              "\n",
              "        async function convertToInteractive(key) {\n",
              "          const element = document.querySelector('#df-032e58a7-8140-4797-a810-266b733a8e21');\n",
              "          const dataTable =\n",
              "            await google.colab.kernel.invokeFunction('convertToInteractive',\n",
              "                                                     [key], {});\n",
              "          if (!dataTable) return;\n",
              "\n",
              "          const docLinkHtml = 'Like what you see? Visit the ' +\n",
              "            '<a target=\"_blank\" href=https://colab.research.google.com/notebooks/data_table.ipynb>data table notebook</a>'\n",
              "            + ' to learn more about interactive tables.';\n",
              "          element.innerHTML = '';\n",
              "          dataTable['output_type'] = 'display_data';\n",
              "          await google.colab.output.renderOutput(dataTable, element);\n",
              "          const docLink = document.createElement('div');\n",
              "          docLink.innerHTML = docLinkHtml;\n",
              "          element.appendChild(docLink);\n",
              "        }\n",
              "      </script>\n",
              "    </div>\n",
              "  </div>\n",
              "  "
            ]
          },
          "metadata": {},
          "execution_count": 37
        }
      ]
    },
    {
      "cell_type": "markdown",
      "metadata": {
        "id": "-331FoxhTdfr"
      },
      "source": [
        "### Step 5. Create a histogram of the top 5 items bought"
      ]
    },
    {
      "cell_type": "code",
      "metadata": {
        "id": "izMntri7Tdft",
        "colab": {
          "base_uri": "https://localhost:8080/",
          "height": 534
        },
        "outputId": "cb821ac2-31da-44a4-f0db-99472c1cbaaa"
      },
      "source": [
        "# get the Series of the names\n",
        "x = chipo.item_name\n",
        "\n",
        "# use the Counter class from collections to create a dictionary with keys(text) and frequency\n",
        "counts = Counter(x)\n",
        "print(Counter(x).most_common())\n",
        "\n",
        "df_top5 = chipo.item_name.value_counts()[0:5]\n",
        "\n",
        "print(df_top5)\n",
        "df_top5.plot(kind='bar')\n",
        "\n",
        "# Set the title and labels\n",
        "plt.xlabel('Items')\n",
        "plt.ylabel('quantity')\n",
        "plt.title('Top 5 items bought')\n",
        "\n",
        "# show the plot\n",
        "plt.show()"
      ],
      "execution_count": 38,
      "outputs": [
        {
          "output_type": "stream",
          "name": "stdout",
          "text": [
            "[('Chicken Bowl', 726), ('Chicken Burrito', 553), ('Chips and Guacamole', 479), ('Steak Burrito', 368), ('Canned Soft Drink', 301), ('Chips', 211), ('Steak Bowl', 211), ('Bottled Water', 162), ('Chicken Soft Tacos', 115), ('Chips and Fresh Tomato Salsa', 110), ('Chicken Salad Bowl', 110), ('Canned Soda', 104), ('Side of Chips', 101), ('Veggie Burrito', 95), ('Barbacoa Burrito', 91), ('Veggie Bowl', 85), ('Carnitas Bowl', 68), ('Barbacoa Bowl', 66), ('Carnitas Burrito', 59), ('Steak Soft Tacos', 55), ('6 Pack Soft Drink', 54), ('Chips and Tomatillo Red Chili Salsa', 48), ('Chicken Crispy Tacos', 47), ('Chips and Tomatillo Green Chili Salsa', 43), ('Carnitas Soft Tacos', 40), ('Steak Crispy Tacos', 35), ('Chips and Tomatillo-Green Chili Salsa', 31), ('Steak Salad Bowl', 29), ('Nantucket Nectar', 27), ('Barbacoa Soft Tacos', 25), ('Chips and Roasted Chili Corn Salsa', 22), ('Izze', 20), ('Chips and Tomatillo-Red Chili Salsa', 20), ('Veggie Salad Bowl', 18), ('Chips and Roasted Chili-Corn Salsa', 18), ('Barbacoa Crispy Tacos', 11), ('Barbacoa Salad Bowl', 10), ('Chicken Salad', 9), ('Carnitas Crispy Tacos', 7), ('Veggie Soft Tacos', 7), ('Burrito', 6), ('Carnitas Salad Bowl', 6), ('Veggie Salad', 6), ('Steak Salad', 4), ('Bowl', 2), ('Crispy Tacos', 2), ('Salad', 2), ('Chips and Mild Fresh Tomato Salsa', 1), ('Veggie Crispy Tacos', 1), ('Carnitas Salad', 1)]\n",
            "Chicken Bowl           726\n",
            "Chicken Burrito        553\n",
            "Chips and Guacamole    479\n",
            "Steak Burrito          368\n",
            "Canned Soft Drink      301\n",
            "Name: item_name, dtype: int64\n"
          ]
        },
        {
          "output_type": "display_data",
          "data": {
            "text/plain": [
              "<Figure size 432x288 with 1 Axes>"
            ],
            "image/png": "[encoded data removed]"
          },
          "metadata": {
            "needs_background": "light"
          }
        }
      ]
    },
    {
      "cell_type": "markdown",
      "metadata": {
        "id": "kQ8rHMBcTdft"
      },
      "source": [
        "### Step 6. Create a scatterplot with the number of items orderered per order price\n",
        "#### Hint: Price should be in the X-axis and Items ordered in the Y-axis"
      ]
    },
    {
      "cell_type": "code",
      "metadata": {
        "id": "gpFGYn8oTdfu",
        "colab": {
          "base_uri": "https://localhost:8080/",
          "height": 312
        },
        "outputId": "940aef82-9133-4c13-bf31-086cf7226553"
      },
      "source": [
        "# create a list of prices\n",
        "chipo.item_price = [float(value[1:-1]) for value in chipo.item_price] \n",
        "# strip the dollar sign and trailing space\n",
        "\n",
        "# then groupby the orders and sum\n",
        "orders = chipo.groupby('order_id').sum()\n",
        "\n",
        "# creates the scatterplot\n",
        "plt.scatter(x = orders.item_price, y = orders.quantity)\n",
        "\n",
        "# Set the title and labels\n",
        "plt.xlabel('Price')\n",
        "plt.ylabel('Items ordered')\n",
        "plt.title('Number of items ordered per order price')\n",
        "plt.ylim(0)"
      ],
      "execution_count": 39,
      "outputs": [
        {
          "output_type": "execute_result",
          "data": {
            "text/plain": [
              "(0.0, 36.7)"
            ]
          },
          "metadata": {},
          "execution_count": 39
        },
        {
          "output_type": "display_data",
          "data": {
            "text/plain": [
              "<Figure size 432x288 with 1 Axes>"
            ],
            "image/png": "[encoded data removed]"
          },
          "metadata": {
            "needs_background": "light"
          }
        }
      ]
    },
    {
      "cell_type": "markdown",
      "metadata": {
        "id": "jFVuaFADTdfv"
      },
      "source": [
        "### Step 7. BONUS: Create a question and a graph to answer your own question.\n",
        "## Create a histogram of the bottom 5 items bought"
      ]
    },
    {
      "cell_type": "code",
      "metadata": {
        "id": "GBIN3WsCTdfw",
        "colab": {
          "base_uri": "https://localhost:8080/",
          "height": 596
        },
        "outputId": "77ae35c0-7072-4759-812d-58997710b8c4"
      },
      "source": [
        "# get the Series of the names\n",
        "x = chipo.item_name\n",
        "\n",
        "# use the Counter class from collections to create a dictionary with keys(text) and frequency\n",
        "counts = Counter(x)\n",
        "print(Counter(x).most_common())\n",
        "\n",
        "df_bottom5 = chipo.item_name.value_counts()[-6:-1]\n",
        "\n",
        "print(df_bottom5)\n",
        "df_bottom5.plot(kind='bar')\n",
        "\n",
        "# Set the title and labels\n",
        "plt.xlabel('Items')\n",
        "plt.ylabel('quantity')\n",
        "plt.title('Bottom 5 items bought')\n",
        "\n",
        "# show the plot\n",
        "plt.show()"
      ],
      "execution_count": 45,
      "outputs": [
        {
          "output_type": "stream",
          "name": "stdout",
          "text": [
            "[('Chicken Bowl', 726), ('Chicken Burrito', 553), ('Chips and Guacamole', 479), ('Steak Burrito', 368), ('Canned Soft Drink', 301), ('Chips', 211), ('Steak Bowl', 211), ('Bottled Water', 162), ('Chicken Soft Tacos', 115), ('Chips and Fresh Tomato Salsa', 110), ('Chicken Salad Bowl', 110), ('Canned Soda', 104), ('Side of Chips', 101), ('Veggie Burrito', 95), ('Barbacoa Burrito', 91), ('Veggie Bowl', 85), ('Carnitas Bowl', 68), ('Barbacoa Bowl', 66), ('Carnitas Burrito', 59), ('Steak Soft Tacos', 55), ('6 Pack Soft Drink', 54), ('Chips and Tomatillo Red Chili Salsa', 48), ('Chicken Crispy Tacos', 47), ('Chips and Tomatillo Green Chili Salsa', 43), ('Carnitas Soft Tacos', 40), ('Steak Crispy Tacos', 35), ('Chips and Tomatillo-Green Chili Salsa', 31), ('Steak Salad Bowl', 29), ('Nantucket Nectar', 27), ('Barbacoa Soft Tacos', 25), ('Chips and Roasted Chili Corn Salsa', 22), ('Izze', 20), ('Chips and Tomatillo-Red Chili Salsa', 20), ('Veggie Salad Bowl', 18), ('Chips and Roasted Chili-Corn Salsa', 18), ('Barbacoa Crispy Tacos', 11), ('Barbacoa Salad Bowl', 10), ('Chicken Salad', 9), ('Carnitas Crispy Tacos', 7), ('Veggie Soft Tacos', 7), ('Burrito', 6), ('Carnitas Salad Bowl', 6), ('Veggie Salad', 6), ('Steak Salad', 4), ('Bowl', 2), ('Crispy Tacos', 2), ('Salad', 2), ('Chips and Mild Fresh Tomato Salsa', 1), ('Veggie Crispy Tacos', 1), ('Carnitas Salad', 1)]\n",
            "Crispy Tacos                         2\n",
            "Salad                                2\n",
            "Bowl                                 2\n",
            "Chips and Mild Fresh Tomato Salsa    1\n",
            "Veggie Crispy Tacos                  1\n",
            "Name: item_name, dtype: int64\n"
          ]
        },
        {
          "output_type": "display_data",
          "data": {
            "text/plain": [
              "<Figure size 432x288 with 1 Axes>"
            ],
            "image/png": "[encoded data removed]"
          },
          "metadata": {
            "needs_background": "light"
          }
        }
      ]
    },
    {
      "cell_type": "code",
      "source": [],
      "metadata": {
        "id": "gffklnNlJPry"
      },
      "execution_count": null,
      "outputs": []
    }
  ]
}